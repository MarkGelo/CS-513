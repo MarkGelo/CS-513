{
 "cells": [
  {
   "cell_type": "code",
   "execution_count": 1,
   "metadata": {},
   "outputs": [],
   "source": [
    "import numpy as np\n",
    "import pandas as pd\n",
    "import os\n",
    "from sklearn.cluster import KMeans\n",
    "from sklearn.cluster import DBSCAN\n",
    "from sklearn.cluster import Birch\n",
    "from sklearn.cluster import OPTICS\n",
    "import plotly.express as px\n",
    "import plotly.graph_objects as go\n",
    "pd.options.mode.chained_assignment = None  # default='warn'\n",
    "\n",
    "# create plots folder if none\n",
    "if not os.path.isdir('plots/'):\n",
    "    os.mkdir('plots/')"
   ]
  },
  {
   "cell_type": "code",
   "execution_count": 2,
   "metadata": {},
   "outputs": [
    {
     "data": {
      "text/html": [
       "<div>\n",
       "<style scoped>\n",
       "    .dataframe tbody tr th:only-of-type {\n",
       "        vertical-align: middle;\n",
       "    }\n",
       "\n",
       "    .dataframe tbody tr th {\n",
       "        vertical-align: top;\n",
       "    }\n",
       "\n",
       "    .dataframe thead th {\n",
       "        text-align: right;\n",
       "    }\n",
       "</style>\n",
       "<table border=\"1\" class=\"dataframe\">\n",
       "  <thead>\n",
       "    <tr style=\"text-align: right;\">\n",
       "      <th></th>\n",
       "      <th>latitude</th>\n",
       "      <th>longitude</th>\n",
       "      <th>altitude</th>\n",
       "      <th>intensity</th>\n",
       "    </tr>\n",
       "  </thead>\n",
       "  <tbody>\n",
       "    <tr>\n",
       "      <th>0</th>\n",
       "      <td>45.903883</td>\n",
       "      <td>11.028414</td>\n",
       "      <td>232.4648</td>\n",
       "      <td>10</td>\n",
       "    </tr>\n",
       "    <tr>\n",
       "      <th>1</th>\n",
       "      <td>45.903683</td>\n",
       "      <td>11.028221</td>\n",
       "      <td>234.4706</td>\n",
       "      <td>5</td>\n",
       "    </tr>\n",
       "    <tr>\n",
       "      <th>2</th>\n",
       "      <td>45.903683</td>\n",
       "      <td>11.028222</td>\n",
       "      <td>234.4459</td>\n",
       "      <td>7</td>\n",
       "    </tr>\n",
       "    <tr>\n",
       "      <th>3</th>\n",
       "      <td>45.903682</td>\n",
       "      <td>11.028224</td>\n",
       "      <td>234.4307</td>\n",
       "      <td>7</td>\n",
       "    </tr>\n",
       "    <tr>\n",
       "      <th>4</th>\n",
       "      <td>45.903681</td>\n",
       "      <td>11.028226</td>\n",
       "      <td>234.4232</td>\n",
       "      <td>7</td>\n",
       "    </tr>\n",
       "    <tr>\n",
       "      <th>...</th>\n",
       "      <td>...</td>\n",
       "      <td>...</td>\n",
       "      <td>...</td>\n",
       "      <td>...</td>\n",
       "    </tr>\n",
       "    <tr>\n",
       "      <th>430731</th>\n",
       "      <td>45.904309</td>\n",
       "      <td>11.028493</td>\n",
       "      <td>225.9179</td>\n",
       "      <td>4</td>\n",
       "    </tr>\n",
       "    <tr>\n",
       "      <th>430732</th>\n",
       "      <td>45.904318</td>\n",
       "      <td>11.028531</td>\n",
       "      <td>225.2816</td>\n",
       "      <td>5</td>\n",
       "    </tr>\n",
       "    <tr>\n",
       "      <th>430733</th>\n",
       "      <td>45.904300</td>\n",
       "      <td>11.028428</td>\n",
       "      <td>225.2848</td>\n",
       "      <td>6</td>\n",
       "    </tr>\n",
       "    <tr>\n",
       "      <th>430734</th>\n",
       "      <td>45.904317</td>\n",
       "      <td>11.028523</td>\n",
       "      <td>225.2883</td>\n",
       "      <td>5</td>\n",
       "    </tr>\n",
       "    <tr>\n",
       "      <th>430735</th>\n",
       "      <td>45.904293</td>\n",
       "      <td>11.028401</td>\n",
       "      <td>225.7603</td>\n",
       "      <td>8</td>\n",
       "    </tr>\n",
       "  </tbody>\n",
       "</table>\n",
       "<p>430736 rows × 4 columns</p>\n",
       "</div>"
      ],
      "text/plain": [
       "         latitude  longitude  altitude  intensity\n",
       "0       45.903883  11.028414  232.4648         10\n",
       "1       45.903683  11.028221  234.4706          5\n",
       "2       45.903683  11.028222  234.4459          7\n",
       "3       45.903682  11.028224  234.4307          7\n",
       "4       45.903681  11.028226  234.4232          7\n",
       "...           ...        ...       ...        ...\n",
       "430731  45.904309  11.028493  225.9179          4\n",
       "430732  45.904318  11.028531  225.2816          5\n",
       "430733  45.904300  11.028428  225.2848          6\n",
       "430734  45.904317  11.028523  225.2883          5\n",
       "430735  45.904293  11.028401  225.7603          8\n",
       "\n",
       "[430736 rows x 4 columns]"
      ]
     },
     "execution_count": 2,
     "metadata": {},
     "output_type": "execute_result"
    }
   ],
   "source": [
    "# read point cloud fuse\n",
    "point_cloud = pd.read_csv('data/final_project_point_cloud.fuse', \n",
    "                          delimiter = \" \", header = None, \n",
    "                          names = ['latitude', 'longitude', 'altitude', 'intensity'])\n",
    "trajectory = pd.read_csv('data/trajectory.fuse', \n",
    "                          delimiter = \" \", header = None, \n",
    "                          names = ['latitude', 'longitude', 'altitude', 'intensity'])\n",
    "point_cloud"
   ]
  },
  {
   "cell_type": "markdown",
   "metadata": {},
   "source": [
    "### Lat/Lon/Alt to ECEF (Earth Centered, Earth Fixed)"
   ]
  },
  {
   "cell_type": "code",
   "execution_count": 3,
   "metadata": {},
   "outputs": [],
   "source": [
    "def lla_to_ecef(lat, lon, alt):\n",
    "    lat = np.radians(lat)\n",
    "    lon = np.radians(lon)\n",
    "    rad = np.float64(6378137.0)        # Radius of the Earth (in meters)\n",
    "    f = np.float64(1.0 / 298.257223563)  # Flattening factor WGS84 Model\n",
    "    FF     = (1.0-f)**2\n",
    "    C      = 1/np.sqrt(np.cos(lat) **2 + FF * np.sin(lat) **2)\n",
    "    S      = C * FF\n",
    "\n",
    "    x = (rad * C + alt)* np.cos(lat) * np.cos(lon)\n",
    "    y = (rad * C + alt)* np.cos(lat) * np.sin(lon)\n",
    "    z = (rad * S + alt)* np.sin(lat)\n",
    "    return x, y, z"
   ]
  },
  {
   "cell_type": "code",
   "execution_count": 4,
   "metadata": {},
   "outputs": [],
   "source": [
    "# point_cloud\n",
    "x, y, z = lla_to_ecef(np.array(point_cloud['latitude']), np.array(point_cloud['longitude']), \n",
    "                      np.array(point_cloud['altitude']))\n",
    "point_cloud['x'] = x\n",
    "point_cloud['y'] = y\n",
    "point_cloud['z'] = z\n",
    "point_cloud['from'] = 'PointCloud'\n",
    "# camera\n",
    "x, y, z = lla_to_ecef(np.array(trajectory['latitude']), np.array(trajectory['longitude']), \n",
    "                      np.array(trajectory['altitude']))\n",
    "trajectory['x'] = x\n",
    "trajectory['y'] = y\n",
    "trajectory['z'] = z\n",
    "trajectory['from'] = 'Camera'"
   ]
  },
  {
   "cell_type": "markdown",
   "metadata": {},
   "source": [
    "## Point Cloud 3D Plot\n",
    "\n",
    "The plots take lots of memory so it is not showed in this notebook.\\\n",
    "You can uncomment fig.show() to see the plots or open the saved plot file which is in html"
   ]
  },
  {
   "cell_type": "code",
   "execution_count": 5,
   "metadata": {},
   "outputs": [
    {
     "name": "stdout",
     "output_type": "stream",
     "text": [
      "To view the plot, open C:\\Users\\Gelo\\Desktop\\IIT\\CS-513\\Road Boundary Detection in Point Cloud\\plots\\LLA Point Cloud 3D.html\n"
     ]
    }
   ],
   "source": [
    "pc_cam = point_cloud.append(trajectory, ignore_index = True)\n",
    "\n",
    "TITLE = 'LLA Point Cloud 3D'\n",
    "fig = px.scatter_3d(pc_cam, x = 'latitude', y = 'longitude', z = 'altitude', \n",
    "                                size = 'intensity', symbol = 'from', color = 'from', title = TITLE)\n",
    "fig = fig.update_layout(scene = dict(zaxis = dict(nticks=4, range=[210, 235],)))\n",
    "fig = fig.update_traces(marker = dict(line = dict(width = 0)))\n",
    "fig.write_html(f\"plots/{TITLE}.html\")\n",
    "del pc_cam\n",
    "#fig.show()\n",
    "print('To view the plot, open', os.path.join(os.getcwd(), 'plots', TITLE + '.html'))"
   ]
  },
  {
   "cell_type": "code",
   "execution_count": 6,
   "metadata": {
    "scrolled": false
   },
   "outputs": [
    {
     "name": "stdout",
     "output_type": "stream",
     "text": [
      "To view the plot, open C:\\Users\\Gelo\\Desktop\\IIT\\CS-513\\Road Boundary Detection in Point Cloud\\plots\\ECEF Point Cloud 3D.html\n"
     ]
    }
   ],
   "source": [
    "ecef_pc_cam = point_cloud.append(trajectory, ignore_index = True)\n",
    "\n",
    "TITLE = 'ECEF Point Cloud 3D'\n",
    "fig = px.scatter_3d(ecef_pc_cam, x = 'x', y = 'y', z = 'z', symbol = 'from', size = 'intensity', color = 'from',\n",
    "                   title = TITLE)\n",
    "fig = fig.update_traces(marker = dict(line = dict(width = 0)))\n",
    "fig.write_html(f\"plots/{TITLE}.html\")\n",
    "del ecef_pc_cam\n",
    "#fig.show()\n",
    "print('To view the plot, open', os.path.join(os.getcwd(), 'plots', TITLE + '.html'))"
   ]
  },
  {
   "cell_type": "markdown",
   "metadata": {},
   "source": [
    "### Some Analysis"
   ]
  },
  {
   "cell_type": "code",
   "execution_count": 7,
   "metadata": {},
   "outputs": [
    {
     "data": {
      "text/plain": [
       "<AxesSubplot:>"
      ]
     },
     "execution_count": 7,
     "metadata": {},
     "output_type": "execute_result"
    },
    {
     "data": {
      "image/png": "[encoded data removed]",
      "text/plain": [
       "<Figure size 720x288 with 1 Axes>"
      ]
     },
     "metadata": {
      "needs_background": "light"
     },
     "output_type": "display_data"
    }
   ],
   "source": [
    "point_cloud.latitude.hist(bins = 100, figsize = (10, 4))"
   ]
  },
  {
   "cell_type": "code",
   "execution_count": 8,
   "metadata": {},
   "outputs": [
    {
     "data": {
      "text/plain": [
       "<AxesSubplot:>"
      ]
     },
     "execution_count": 8,
     "metadata": {},
     "output_type": "execute_result"
    },
    {
     "data": {
      "image/png": "[encoded data removed]",
      "text/plain": [
       "<Figure size 432x288 with 1 Axes>"
      ]
     },
     "metadata": {
      "needs_background": "light"
     },
     "output_type": "display_data"
    }
   ],
   "source": [
    "point_cloud.longitude.hist(bins = 20)"
   ]
  },
  {
   "cell_type": "code",
   "execution_count": 9,
   "metadata": {},
   "outputs": [
    {
     "data": {
      "text/plain": [
       "<AxesSubplot:>"
      ]
     },
     "execution_count": 9,
     "metadata": {},
     "output_type": "execute_result"
    },
    {
     "data": {
      "image/png": "[encoded data removed]",
      "text/plain": [
       "<Figure size 432x288 with 1 Axes>"
      ]
     },
     "metadata": {
      "needs_background": "light"
     },
     "output_type": "display_data"
    }
   ],
   "source": [
    "point_cloud.altitude.hist(bins = 20)"
   ]
  },
  {
   "cell_type": "markdown",
   "metadata": {},
   "source": [
    "Can manually choose altitude and possibly lat, long to only include road boundaries"
   ]
  },
  {
   "cell_type": "markdown",
   "metadata": {},
   "source": [
    "### Manual"
   ]
  },
  {
   "cell_type": "code",
   "execution_count": 10,
   "metadata": {},
   "outputs": [],
   "source": [
    "altitude = 226\n",
    "manual = point_cloud.copy(deep = True)\n",
    "manual.loc[manual['altitude'] > altitude, 'cluster'] = 'road boundary'\n",
    "manual.loc[manual['altitude'] > altitude, 'intensity'] = 123 # increase intensity so easier to see\n",
    "manual.loc[manual['altitude'] <= altitude, 'cluster'] = 'other'\n",
    "\n",
    "# add camera\n",
    "trajectory['cluster'] = 'camera'\n",
    "manual = manual.append(trajectory, ignore_index = True)"
   ]
  },
  {
   "cell_type": "code",
   "execution_count": 11,
   "metadata": {},
   "outputs": [
    {
     "name": "stdout",
     "output_type": "stream",
     "text": [
      "To view the plot, open C:\\Users\\Gelo\\Desktop\\IIT\\CS-513\\Road Boundary Detection in Point Cloud\\plots\\Manual Detection LLA.html\n"
     ]
    }
   ],
   "source": [
    "TITLE = 'Manual Detection LLA'\n",
    "fig = px.scatter_3d(manual, x = 'latitude', y = 'longitude', z = 'altitude', \n",
    "                                size = 'intensity', symbol = 'from', color = 'cluster',\n",
    "                   title = TITLE)\n",
    "fig = fig.update_layout(scene = dict(zaxis = dict(nticks=4, range=[210, 235],)))\n",
    "fig = fig.update_traces(marker = dict(line = dict(width = 0)))\n",
    "fig.write_html(f\"plots/{TITLE}.html\")\n",
    "#fig.show()\n",
    "print('To view the plot, open', os.path.join(os.getcwd(), 'plots', TITLE + '.html'))"
   ]
  },
  {
   "cell_type": "code",
   "execution_count": 12,
   "metadata": {},
   "outputs": [
    {
     "name": "stdout",
     "output_type": "stream",
     "text": [
      "To view the plot, open C:\\Users\\Gelo\\Desktop\\IIT\\CS-513\\Road Boundary Detection in Point Cloud\\plots\\Manual Detection ECEF.html\n"
     ]
    }
   ],
   "source": [
    "TITLE = 'Manual Detection ECEF'\n",
    "fig = px.scatter_3d(manual, x = 'x', y = 'y', z = 'z', size = 'intensity', symbol = 'from', color = 'cluster',\n",
    "                   title = TITLE)\n",
    "fig = fig.update_traces(marker = dict(line = dict(width = 0)))\n",
    "fig.write_html(f\"plots/{TITLE}.html\")\n",
    "del manual\n",
    "#fig.show()\n",
    "print('To view the plot, open', os.path.join(os.getcwd(), 'plots', TITLE + '.html'))"
   ]
  },
  {
   "cell_type": "markdown",
   "metadata": {},
   "source": [
    "### KMeans"
   ]
  },
  {
   "cell_type": "code",
   "execution_count": 13,
   "metadata": {},
   "outputs": [],
   "source": [
    "kmeans = KMeans(n_clusters = 12, random_state = 22).fit(point_cloud[['latitude', 'longitude', 'altitude']])\n",
    "\n",
    "km = point_cloud.copy(deep = True)\n",
    "km['kmeans']= kmeans.labels_"
   ]
  },
  {
   "cell_type": "code",
   "execution_count": 14,
   "metadata": {},
   "outputs": [
    {
     "name": "stdout",
     "output_type": "stream",
     "text": [
      "To view the plot, open C:\\Users\\Gelo\\Desktop\\IIT\\CS-513\\Road Boundary Detection in Point Cloud\\plots\\Temp KMeans Detection.html\n"
     ]
    }
   ],
   "source": [
    "TITLE = 'Temp KMeans Detection'\n",
    "fig = px.scatter_3d(km, x = 'latitude', y = 'longitude', z = 'altitude', \n",
    "                                color = 'kmeans', symbol = 'kmeans',\n",
    "                   title = TITLE)\n",
    "# no size intensity for easier readability\n",
    "fig = fig.update_layout(scene = dict(zaxis = dict(nticks=4, range=[210, 235],)))\n",
    "fig = fig.update_traces(marker = dict(line = dict(width = 0)))\n",
    "fig.write_html(f\"plots/{TITLE}.html\")\n",
    "#fig.show()\n",
    "print('To view the plot, open', os.path.join(os.getcwd(), 'plots', TITLE + '.html'))"
   ]
  },
  {
   "cell_type": "markdown",
   "metadata": {},
   "source": [
    "K = 12: Clusters 4, 11, 0 are the road boundaries\n",
    "\n",
    "K = 5: Cluster 0"
   ]
  },
  {
   "cell_type": "code",
   "execution_count": 15,
   "metadata": {},
   "outputs": [],
   "source": [
    "km.loc[km['kmeans'].isin([4, 11, 0]), 'cluster'] = 'road boundary'\n",
    "km.loc[km['kmeans'].isin([4, 11, 0]), 'intensity'] = 123 # increase intensity so easier to see\n",
    "km.loc[~km['kmeans'].isin([4, 11, 0]), 'cluster'] = 'other'\n",
    "km = km.append(trajectory, ignore_index = True)"
   ]
  },
  {
   "cell_type": "code",
   "execution_count": 16,
   "metadata": {},
   "outputs": [
    {
     "name": "stdout",
     "output_type": "stream",
     "text": [
      "To view the plot, open C:\\Users\\Gelo\\Desktop\\IIT\\CS-513\\Road Boundary Detection in Point Cloud\\plots\\KMeans LLA Detection.html\n"
     ]
    }
   ],
   "source": [
    "TITLE = 'KMeans LLA Detection'\n",
    "fig = px.scatter_3d(km, x = 'latitude', y = 'longitude', z = 'altitude', \n",
    "                                size = 'intensity', color = 'cluster', symbol = 'from',\n",
    "                   title = TITLE)\n",
    "fig = fig.update_layout(scene = dict(zaxis = dict(nticks=4, range=[210, 235],)))\n",
    "fig = fig.update_traces(marker = dict(line = dict(width = 0)))\n",
    "fig.write_html(f\"plots/{TITLE}.html\")\n",
    "#fig.show()\n",
    "print('To view the plot, open', os.path.join(os.getcwd(), 'plots', TITLE + '.html'))"
   ]
  },
  {
   "cell_type": "code",
   "execution_count": 17,
   "metadata": {},
   "outputs": [
    {
     "name": "stdout",
     "output_type": "stream",
     "text": [
      "To view the plot, open C:\\Users\\Gelo\\Desktop\\IIT\\CS-513\\Road Boundary Detection in Point Cloud\\plots\\KMeans ECEF Detection.html\n"
     ]
    }
   ],
   "source": [
    "TITLE = 'KMeans ECEF Detection'\n",
    "fig = px.scatter_3d(km, x = 'x', y = 'y', z = 'z', \n",
    "                                size = 'intensity', color = 'cluster', symbol = 'from',\n",
    "                   title = TITLE)\n",
    "fig = fig.update_traces(marker = dict(line = dict(width = 0)))\n",
    "fig.write_html(f\"plots/{TITLE}.html\")\n",
    "del km\n",
    "#fig.show()\n",
    "print('To view the plot, open', os.path.join(os.getcwd(), 'plots', TITLE + '.html'))"
   ]
  },
  {
   "cell_type": "markdown",
   "metadata": {},
   "source": [
    "### Other Clustering Algorithsm\n",
    "\n",
    "DBSCAN takes too much memory so no\\\n",
    "Tried OPTICS, takes too long\\\n",
    "**Birch** (Balanced Iterative Reducing and Clustering using Hierarchies) works\n"
   ]
  },
  {
   "cell_type": "code",
   "execution_count": 18,
   "metadata": {},
   "outputs": [],
   "source": [
    "bir = Birch(threshold = 0.3, n_clusters = 8).fit(point_cloud[['latitude', 'longitude', 'altitude']])\n",
    "birc = point_cloud.copy(deep = True)\n",
    "birc['birch'] = bir.labels_"
   ]
  },
  {
   "cell_type": "code",
   "execution_count": 19,
   "metadata": {},
   "outputs": [
    {
     "name": "stdout",
     "output_type": "stream",
     "text": [
      "To view the plot, open C:\\Users\\Gelo\\Desktop\\IIT\\CS-513\\Road Boundary Detection in Point Cloud\\plots\\Temp Birch Detection.html\n"
     ]
    }
   ],
   "source": [
    "TITLE = 'Temp Birch Detection'\n",
    "fig = px.scatter_3d(birc, x = 'latitude', y = 'longitude', z = 'altitude',\n",
    "                    color = 'birch', symbol = 'birch', title = TITLE)\n",
    "fig = fig.update_layout(scene = dict(zaxis = dict(nticks=4, range=[210, 235],)))\n",
    "fig = fig.update_traces(marker = dict(line = dict(width = 0)))\n",
    "fig.write_html(f\"plots/{TITLE}.html\")\n",
    "#fig.show()\n",
    "print('To view the plot, open', os.path.join(os.getcwd(), 'plots', TITLE + '.html'))"
   ]
  },
  {
   "cell_type": "markdown",
   "metadata": {},
   "source": [
    "Birch: Label of 6"
   ]
  },
  {
   "cell_type": "code",
   "execution_count": 20,
   "metadata": {},
   "outputs": [],
   "source": [
    "birc.loc[birc['birch'] == 6, 'cluster'] = 'road boundary'\n",
    "birc.loc[birc['birch'] == 6, 'intensity'] = 123 # increase intensity so easier to see\n",
    "birc.loc[birc['birch'] != 6, 'cluster'] = 'other'\n",
    "birc = birc.append(trajectory, ignore_index = True)"
   ]
  },
  {
   "cell_type": "code",
   "execution_count": 21,
   "metadata": {},
   "outputs": [
    {
     "name": "stdout",
     "output_type": "stream",
     "text": [
      "To view the plot, open C:\\Users\\Gelo\\Desktop\\IIT\\CS-513\\Road Boundary Detection in Point Cloud\\plots\\Birch LLA Detection.html\n"
     ]
    }
   ],
   "source": [
    "TITLE = 'Birch LLA Detection'\n",
    "fig = px.scatter_3d(birc, x = 'latitude', y = 'longitude', z = 'altitude',\n",
    "                    size = 'intensity', color = 'cluster', symbol = 'from', title = TITLE)\n",
    "fig = fig.update_traces(marker = dict(line = dict(width = 0)))\n",
    "fig.write_html(f\"plots/{TITLE}.html\")\n",
    "#fig.show()\n",
    "print('To view the plot, open', os.path.join(os.getcwd(), 'plots', TITLE + '.html'))"
   ]
  },
  {
   "cell_type": "code",
   "execution_count": 22,
   "metadata": {},
   "outputs": [
    {
     "name": "stdout",
     "output_type": "stream",
     "text": [
      "To view the plot, open C:\\Users\\Gelo\\Desktop\\IIT\\CS-513\\Road Boundary Detection in Point Cloud\\plots\\Birch ECEF Detection.html\n"
     ]
    }
   ],
   "source": [
    "TITLE = 'Birch ECEF Detection'\n",
    "fig = px.scatter_3d(birc, x = 'x', y = 'y', z = 'z',\n",
    "                    size = 'intensity', color = 'cluster', symbol = 'from', title = TITLE)\n",
    "fig = fig.update_traces(marker = dict(line = dict(width = 0)))\n",
    "fig.write_html(f\"plots/{TITLE}.html\")\n",
    "del birc\n",
    "#fig.show()\n",
    "print('To view the plot, open', os.path.join(os.getcwd(), 'plots', TITLE + '.html'))"
   ]
  }
 ],
 "metadata": {
  "kernelspec": {
   "display_name": "Python 3",
   "language": "python",
   "name": "python3"
  },
  "language_info": {
   "codemirror_mode": {
    "name": "ipython",
    "version": 3
   },
   "file_extension": ".py",
   "mimetype": "text/x-python",
   "name": "python",
   "nbconvert_exporter": "python",
   "pygments_lexer": "ipython3",
   "version": "3.8.5"
  }
 },
 "nbformat": 4,
 "nbformat_minor": 4
}
